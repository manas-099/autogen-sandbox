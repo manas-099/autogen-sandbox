{
  "cells": [
    {
      "cell_type": "code",
      "execution_count": 1,
      "id": "kl-H6m0oAkOE",
      "metadata": {
        "colab": {
          "base_uri": "https://localhost:8080/"
        },
        "id": "kl-H6m0oAkOE",
        "outputId": "34872c9d-5d82-46aa-cca5-a7aec394f779"
      },
      "outputs": [
        {
          "name": "stdout",
          "output_type": "stream",
          "text": [
            "\u001b[?25l   \u001b[90m━━━━━━━━━━━━━━━━━━━━━━━━━━━━━━━━━━━━━━━━\u001b[0m \u001b[32m0.0/119.1 kB\u001b[0m \u001b[31m?\u001b[0m eta \u001b[36m-:--:--\u001b[0m\r\u001b[2K   \u001b[91m━━━━━━━━━━━━━━━━━━━━━━━━━━━━━━━━━━━━━\u001b[0m\u001b[91m╸\u001b[0m\u001b[90m━━\u001b[0m \u001b[32m112.6/119.1 kB\u001b[0m \u001b[31m3.4 MB/s\u001b[0m eta \u001b[36m0:00:01\u001b[0m\r\u001b[2K   \u001b[90m━━━━━━━━━━━━━━━━━━━━━━━━━━━━━━━━━━━━━━━━\u001b[0m \u001b[32m119.1/119.1 kB\u001b[0m \u001b[31m2.6 MB/s\u001b[0m eta \u001b[36m0:00:00\u001b[0m\n",
            "\u001b[2K   \u001b[90m━━━━━━━━━━━━━━━━━━━━━━━━━━━━━━━━━━━━━━━━\u001b[0m \u001b[32m101.6/101.6 kB\u001b[0m \u001b[31m4.3 MB/s\u001b[0m eta \u001b[36m0:00:00\u001b[0m\n",
            "\u001b[2K   \u001b[90m━━━━━━━━━━━━━━━━━━━━━━━━━━━━━━━━━━━━━━━━\u001b[0m \u001b[32m328.9/328.9 kB\u001b[0m \u001b[31m5.7 MB/s\u001b[0m eta \u001b[36m0:00:00\u001b[0m\n",
            "\u001b[?25h"
          ]
        }
      ],
      "source": [
        "!pip install -qU \"autogen-agentchat\"\n",
        "!pip install -q \"autogen-ext[openai]\"\n",
        "\n"
      ]
    },
    {
      "cell_type": "code",
      "execution_count": 19,
      "id": "13b88ba7",
      "metadata": {
        "id": "13b88ba7"
      },
      "outputs": [],
      "source": [
        "from autogen_ext.models.openai import OpenAIChatCompletionClient\n",
        "from autogen_agentchat.agents import AssistantAgent,UserProxyAgent\n",
        "from dotenv import load_dotenv\n",
        "from autogen_agentchat.conditions import TextMentionTermination\n",
        "from autogen_agentchat.teams import RoundRobinGroupChat\n",
        "\n",
        "from autogen_agentchat.ui import Console"
      ]
    },
    {
      "cell_type": "code",
      "execution_count": null,
      "id": "5af480cf",
      "metadata": {
        "id": "5af480cf"
      },
      "outputs": [],
      "source": [
        "\n",
        "import os\n",
        "\n",
        "model_client = OpenAIChatCompletionClient(\n",
        "    model=\"gemini-2.5-flash\",\n",
        "    api_key=GEMINI_API_KEY,\n",
        ")"
      ]
    },
    {
      "cell_type": "code",
      "execution_count": 16,
      "id": "cihmHhtkElAJ",
      "metadata": {
        "id": "cihmHhtkElAJ"
      },
      "outputs": [],
      "source": [
        "assistant = AssistantAgent(\n",
        "    name='Assistant',\n",
        "    description='you are a great assistant',\n",
        "    model_client=model_client,\n",
        "    system_message='You are a really helpful assistant who help on the task given.'\n",
        ")\n",
        "user_agent = UserProxyAgent(\n",
        "    name=\"UserProxy\",\n",
        "    description='A proxy agent that represent a user',\n",
        "    input_func=input\n",
        ")\n",
        "termination_condition = TextMentionTermination('APPROVE')\n",
        "\n",
        "team = RoundRobinGroupChat(\n",
        "    participants=[assistant,user_agent],\n",
        "    termination_condition=termination_condition\n",
        ")"
      ]
    },
    {
      "cell_type": "code",
      "execution_count": 18,
      "id": "NkJgLUFFIZl4",
      "metadata": {
        "colab": {
          "base_uri": "https://localhost:8080/"
        },
        "id": "NkJgLUFFIZl4",
        "outputId": "fdf14d32-3bfc-42fc-d7a2-00c7413cd673"
      },
      "outputs": [
        {
          "name": "stdout",
          "output_type": "stream",
          "text": [
            "---------- TextMessage (user) ----------\n",
            "Write in 20 words slogan for independece day 2025\n",
            "---------- TextMessage (Assistant) ----------\n",
            "**\"2025: Celebrating India's freedom, unity, and progress. Building a resilient nation, inspiring the world with our strength and spirit.\"**\n",
            "Enter your response: it could be better\n",
            "---------- TextMessage (UserProxy) ----------\n",
            "it could be better\n",
            "---------- TextMessage (Assistant) ----------\n",
            "Okay, let's refine it for more impact and conciseness, hitting the 20-word limit.\n",
            "\n",
            "Here are a few options for Independence Day 2025:\n",
            "\n",
            "**Option 1 (Focus on Future & Unity):**\n",
            "\"Independence Day 2025: Freedom's enduring light. United, India strides forward – a beacon of progress, strength, and a glorious future.\"\n",
            "\n",
            "**Option 2 (Focus on Progress & Spirit):**\n",
            "\"2025: Celebrating India's freedom, fueling progress. A united nation, building a stronger, vibrant future, inspiring the world with our spirit.\"\n",
            "\n",
            "**Option 3 (More active):**\n",
            "\"Independence 2025: Freedom's promise, India's future. United, we build a resilient, progressive nation, inspiring strength and vibrant growth.\"\n",
            "\n",
            "Choose the one that best resonates!\n",
            "Enter your response: option 3\n",
            "---------- TextMessage (UserProxy) ----------\n",
            "option 3\n",
            "---------- TextMessage (Assistant) ----------\n",
            "Excellent choice!\n",
            "\n",
            "Here is your slogan for Independence Day 2025:\n",
            "\n",
            "**\"Independence 2025: Freedom's promise, India's future. United, we build a resilient, progressive nation, inspiring strength and vibrant growth.\"**\n",
            "Enter your response: thank you and approve this one\n",
            "---------- TextMessage (UserProxy) ----------\n",
            "thank you and approve this one\n",
            "---------- TextMessage (Assistant) ----------\n",
            "You're most welcome!\n",
            "\n",
            "**Approved:**\n",
            "\n",
            "**\"Independence 2025: Freedom's promise, India's future. United, we build a resilient, progressive nation, inspiring strength and vibrant growth.\"**\n",
            "Enter your response: approve\n",
            "---------- TextMessage (UserProxy) ----------\n",
            "approve\n",
            "---------- TextMessage (Assistant) ----------\n",
            "Acknowledged.\n",
            "Enter your response: APPROVE\n",
            "---------- TextMessage (UserProxy) ----------\n",
            "APPROVE\n"
          ]
        },
        {
          "data": {
            "text/plain": [
              "TaskResult(messages=[TextMessage(id='851016d5-32cf-4762-850c-e076294e3162', source='user', models_usage=None, metadata={}, created_at=datetime.datetime(2025, 9, 3, 10, 34, 11, 755275, tzinfo=datetime.timezone.utc), content='Write in 20 words slogan for independece day 2025', type='TextMessage'), TextMessage(id='fbfdbb20-3fc3-40e7-bdd6-74cb9c273369', source='Assistant', models_usage=RequestUsage(prompt_tokens=125, completion_tokens=33), metadata={}, created_at=datetime.datetime(2025, 9, 3, 10, 34, 14, 801393, tzinfo=datetime.timezone.utc), content='**\"2025: Celebrating India\\'s freedom, unity, and progress. Building a resilient nation, inspiring the world with our strength and spirit.\"**', type='TextMessage'), UserInputRequestedEvent(id='7c606c48-ed6c-436b-827d-55c9c71dfe7f', source='UserProxy', models_usage=None, metadata={}, created_at=datetime.datetime(2025, 9, 3, 10, 34, 14, 803985, tzinfo=datetime.timezone.utc), request_id='22588a35-c0a6-4045-9504-f7c122d18606', content='', type='UserInputRequestedEvent'), TextMessage(id='80262e2c-6712-411c-bb9c-c09278a7f241', source='UserProxy', models_usage=None, metadata={}, created_at=datetime.datetime(2025, 9, 3, 10, 34, 56, 774335, tzinfo=datetime.timezone.utc), content='it could be better', type='TextMessage'), TextMessage(id='36ba9bc8-9395-4d4f-882a-c683e0c8db97', source='Assistant', models_usage=RequestUsage(prompt_tokens=164, completion_tokens=186), metadata={}, created_at=datetime.datetime(2025, 9, 3, 10, 35, 4, 383002, tzinfo=datetime.timezone.utc), content='Okay, let\\'s refine it for more impact and conciseness, hitting the 20-word limit.\\n\\nHere are a few options for Independence Day 2025:\\n\\n**Option 1 (Focus on Future & Unity):**\\n\"Independence Day 2025: Freedom\\'s enduring light. United, India strides forward – a beacon of progress, strength, and a glorious future.\"\\n\\n**Option 2 (Focus on Progress & Spirit):**\\n\"2025: Celebrating India\\'s freedom, fueling progress. A united nation, building a stronger, vibrant future, inspiring the world with our spirit.\"\\n\\n**Option 3 (More active):**\\n\"Independence 2025: Freedom\\'s promise, India\\'s future. United, we build a resilient, progressive nation, inspiring strength and vibrant growth.\"\\n\\nChoose the one that best resonates!', type='TextMessage'), UserInputRequestedEvent(id='70deedfd-0c9e-4243-a117-b546f1a37e7d', source='UserProxy', models_usage=None, metadata={}, created_at=datetime.datetime(2025, 9, 3, 10, 35, 4, 385270, tzinfo=datetime.timezone.utc), request_id='12b4c5b4-f83d-413b-95a9-789875cc8dc9', content='', type='UserInputRequestedEvent'), TextMessage(id='315a9d1e-7a9d-4ac4-ad3b-0cf85133b46d', source='UserProxy', models_usage=None, metadata={}, created_at=datetime.datetime(2025, 9, 3, 10, 35, 35, 913587, tzinfo=datetime.timezone.utc), content='option 3', type='TextMessage'), TextMessage(id='b020c2fa-92ec-46f7-bcf1-0bfd6681f5d5', source='Assistant', models_usage=RequestUsage(prompt_tokens=355, completion_tokens=54), metadata={}, created_at=datetime.datetime(2025, 9, 3, 10, 35, 37, 733343, tzinfo=datetime.timezone.utc), content='Excellent choice!\\n\\nHere is your slogan for Independence Day 2025:\\n\\n**\"Independence 2025: Freedom\\'s promise, India\\'s future. United, we build a resilient, progressive nation, inspiring strength and vibrant growth.\"**', type='TextMessage'), UserInputRequestedEvent(id='11a755ab-2780-4678-ad5a-9ee0064d1a61', source='UserProxy', models_usage=None, metadata={}, created_at=datetime.datetime(2025, 9, 3, 10, 35, 37, 735443, tzinfo=datetime.timezone.utc), request_id='ceea0e07-3a5c-4b80-a232-ed49bbb8fef0', content='', type='UserInputRequestedEvent'), TextMessage(id='dfec76d3-b00c-4577-b938-526530f29bc5', source='UserProxy', models_usage=None, metadata={}, created_at=datetime.datetime(2025, 9, 3, 10, 35, 54, 319595, tzinfo=datetime.timezone.utc), content='thank you and approve this one', type='TextMessage'), TextMessage(id='cbd920b0-7185-4df3-a39e-c8b4b2aa6884', source='Assistant', models_usage=RequestUsage(prompt_tokens=417, completion_tokens=47), metadata={}, created_at=datetime.datetime(2025, 9, 3, 10, 35, 55, 221008, tzinfo=datetime.timezone.utc), content='You\\'re most welcome!\\n\\n**Approved:**\\n\\n**\"Independence 2025: Freedom\\'s promise, India\\'s future. United, we build a resilient, progressive nation, inspiring strength and vibrant growth.\"**', type='TextMessage'), UserInputRequestedEvent(id='1b4f28a1-cf67-4197-8cc0-adc761afc751', source='UserProxy', models_usage=None, metadata={}, created_at=datetime.datetime(2025, 9, 3, 10, 35, 55, 222954, tzinfo=datetime.timezone.utc), request_id='74fd9c35-51e0-4c00-b94e-033101fcd00a', content='', type='UserInputRequestedEvent'), TextMessage(id='2e85e050-d081-4d50-a5ae-14685f30d1ca', source='UserProxy', models_usage=None, metadata={}, created_at=datetime.datetime(2025, 9, 3, 10, 36, 3, 758438, tzinfo=datetime.timezone.utc), content='approve', type='TextMessage'), TextMessage(id='bbb97174-74b4-414a-ad14-031c8cf6eb27', source='Assistant', models_usage=RequestUsage(prompt_tokens=467, completion_tokens=3), metadata={}, created_at=datetime.datetime(2025, 9, 3, 10, 36, 4, 876475, tzinfo=datetime.timezone.utc), content='Acknowledged.', type='TextMessage'), UserInputRequestedEvent(id='d4656803-26fe-4435-8439-272b638c6e35', source='UserProxy', models_usage=None, metadata={}, created_at=datetime.datetime(2025, 9, 3, 10, 36, 4, 879351, tzinfo=datetime.timezone.utc), request_id='2cc7265a-5cb0-41b9-8b3d-62fd2c1ea500', content='', type='UserInputRequestedEvent'), TextMessage(id='d4c077f5-2b17-4e90-98e3-cdec83bee4d8', source='UserProxy', models_usage=None, metadata={}, created_at=datetime.datetime(2025, 9, 3, 10, 36, 13, 718507, tzinfo=datetime.timezone.utc), content='APPROVE', type='TextMessage')], stop_reason=\"Text 'APPROVE' mentioned\")"
            ]
          },
          "execution_count": 18,
          "metadata": {},
          "output_type": "execute_result"
        }
      ],
      "source": [
        "await Console(team.run_stream(task='Write in 20 words slogan for independece day 2025'))"
      ]
    },
    {
      "cell_type": "code",
      "execution_count": null,
      "id": "NA520gwMIgzy",
      "metadata": {
        "id": "NA520gwMIgzy"
      },
      "outputs": [],
      "source": []
    }
  ],
  "metadata": {
    "colab": {
      "provenance": []
    },
    "kernelspec": {
      "display_name": "aiagent_env",
      "language": "python",
      "name": "python3"
    },
    "language_info": {
      "codemirror_mode": {
        "name": "ipython",
        "version": 3
      },
      "file_extension": ".py",
      "mimetype": "text/x-python",
      "name": "python",
      "nbconvert_exporter": "python",
      "pygments_lexer": "ipython3",
      "version": "3.12.5"
    }
  },
  "nbformat": 4,
  "nbformat_minor": 5
}
