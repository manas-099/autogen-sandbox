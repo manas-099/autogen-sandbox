{
 "cells": [
  {
   "cell_type": "code",
   "execution_count": 1,
   "id": "13b88ba7",
   "metadata": {},
   "outputs": [],
   "source": [
    "from autogen_ext.models.openai import OpenAIChatCompletionClient\n",
    "from autogen_agentchat.agents import AssistantAgent\n",
    "from dotenv import load_dotenv\n",
    "\n",
    "from autogen_agentchat.ui import Console"
   ]
  },
  {
   "cell_type": "code",
   "execution_count": 2,
   "id": "5af480cf",
   "metadata": {},
   "outputs": [],
   "source": [
    "\n",
    "load_dotenv()\n",
    "import os\n",
    "GEMINI_API_KEY=os.getenv('GEMINI_API_KEY')\n",
    "model_client = OpenAIChatCompletionClient(\n",
    "    model=\"gemini-2.5-flash\",\n",
    "    api_key=GEMINI_API_KEY,\n",
    ")"
   ]
  },
  {
   "cell_type": "code",
   "execution_count": 3,
   "id": "72fa0e9a",
   "metadata": {},
   "outputs": [],
   "source": [
    "plot_agent = AssistantAgent(\n",
    "    name = 'plot_writer',\n",
    "    model_client=model_client,\n",
    "    system_message=\"You create engaging plots for stories.\"\n",
    ")\n",
    "\n",
    "character_agent = AssistantAgent(\n",
    "    name = 'character_writer',\n",
    "    model_client=model_client,\n",
    "    system_message=\"You develop characters. \"\n",
    ")\n",
    "\n",
    "ending_agent = AssistantAgent(\n",
    "    name = 'ending_writer',\n",
    "    model_client=model_client,\n",
    "    system_message=\"You write engaging endings. conclude the story with a twist.\"\n",
    ")"
   ]
  },
  {
   "cell_type": "code",
   "execution_count": 4,
   "id": "8bd9d95c",
   "metadata": {},
   "outputs": [],
   "source": [
    "from autogen_agentchat.teams import RoundRobinGroupChat"
   ]
  },
  {
   "cell_type": "code",
   "execution_count": 5,
   "id": "afad5101",
   "metadata": {},
   "outputs": [],
   "source": [
    "team=RoundRobinGroupChat(\n",
    "    participants=[plot_agent,character_agent,ending_agent],\n",
    "    max_turns=5\n",
    ")"
   ]
  },
  {
   "cell_type": "code",
   "execution_count": null,
   "id": "ee55b434",
   "metadata": {},
   "outputs": [],
   "source": [
    "from autogen_agentchat.messages import TextMessage\n",
    "async def test_team():\n",
    "    task = TextMessage(\n",
    "        content='Write a love story. Keep it up to 300 words',\n",
    "        source='user'\n",
    "    )\n",
    "\n",
    "    result = await team.run(task=task)\n",
    "    for message in result.messages:\n",
    "        print(f'{message.source} : {message.content}')\n",
    "        \n",
    "\n",
    "await test_team()"
   ]
  }
 ],
 "metadata": {
  "kernelspec": {
   "display_name": "aiagent_env",
   "language": "python",
   "name": "python3"
  },
  "language_info": {
   "codemirror_mode": {
    "name": "ipython",
    "version": 3
   },
   "file_extension": ".py",
   "mimetype": "text/x-python",
   "name": "python",
   "nbconvert_exporter": "python",
   "pygments_lexer": "ipython3",
   "version": "3.12.5"
  }
 },
 "nbformat": 4,
 "nbformat_minor": 5
}
