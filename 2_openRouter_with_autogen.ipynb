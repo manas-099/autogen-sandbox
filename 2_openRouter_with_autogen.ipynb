{
 "cells": [
  {
   "cell_type": "code",
   "execution_count": null,
   "id": "10b3ebf1",
   "metadata": {},
   "outputs": [],
   "source": [
    "from autogen_ext.models.openai import OpenAIChatCompletionClient\n",
    "from autogen_agentchat.agents import AssistantAgent\n",
    "from dotenv import load_dotenv\n",
    "from autogen_core.models import UserMessage\n",
    "from autogen_agentchat.ui import Console\n"
   ]
  },
  {
   "cell_type": "code",
   "execution_count": 2,
   "id": "632b8998",
   "metadata": {},
   "outputs": [],
   "source": [
    "model=\"deepseek/deepseek-chat-v3.1:free\"\n",
    "web_path=\"https://openrouter.ai/deepseek/deepseek-chat-v3.1:free\"\n",
    "openRouter_api_key=\"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\""
   ]
  },
  {
   "cell_type": "code",
   "execution_count": 3,
   "id": "009c86ad",
   "metadata": {},
   "outputs": [
    {
     "name": "stderr",
     "output_type": "stream",
     "text": [
      "C:\\Users\\manas\\AppData\\Roaming\\Python\\Python312\\site-packages\\autogen_ext\\models\\openai\\_openai_client.py:453: UserWarning: Missing required field 'structured_output' in ModelInfo. This field will be required in a future version of AutoGen.\n",
      "  validate_model_info(self._model_info)\n"
     ]
    }
   ],
   "source": [
    "model_client = OpenAIChatCompletionClient(\n",
    "    base_url=\"https://openrouter.ai/api/v1\",\n",
    "    model=\"deepseek/deepseek-r1-0528:free\",\n",
    "    api_key=openRouter_api_key,\n",
    "    model_info={\n",
    "        \"family\": 'deepseek',\n",
    "        \"vision\": True,\n",
    "        \"function_calling\": True,\n",
    "        \"json_output\": False\n",
    "    }\n",
    ")\n",
    "\n"
   ]
  },
  {
   "cell_type": "code",
   "execution_count": 4,
   "id": "9dbe7d12",
   "metadata": {},
   "outputs": [],
   "source": [
    "agent=AssistantAgent(\n",
    "    name=\"jarvis\",\n",
    "    system_message=\"you are a helpfull assistant.\",\n",
    "    model_client=model_client\n",
    ")"
   ]
  },
  {
   "cell_type": "code",
   "execution_count": 5,
   "id": "291bc23c",
   "metadata": {},
   "outputs": [],
   "source": [
    "res=await agent.run(task=\"what is the capital of france\")"
   ]
  },
  {
   "cell_type": "code",
   "execution_count": 6,
   "id": "dc2f657b",
   "metadata": {},
   "outputs": [
    {
     "data": {
      "text/plain": [
       "TaskResult(messages=[TextMessage(id='894346c9-75d2-4b0f-91e6-6f4dabcda697', source='user', models_usage=None, metadata={}, created_at=datetime.datetime(2025, 9, 12, 8, 29, 15, 588812, tzinfo=datetime.timezone.utc), content='what is the capital of france', type='TextMessage'), TextMessage(id='3637cf85-5ece-4092-bf45-4627725e9bfd', source='jarvis', models_usage=RequestUsage(prompt_tokens=20, completion_tokens=214), metadata={}, created_at=datetime.datetime(2025, 9, 12, 8, 29, 28, 932612, tzinfo=datetime.timezone.utc), content='The capital of France is **Paris**.', type='TextMessage')], stop_reason=None)"
      ]
     },
     "execution_count": 6,
     "metadata": {},
     "output_type": "execute_result"
    }
   ],
   "source": [
    "res"
   ]
  },
  {
   "cell_type": "code",
   "execution_count": 7,
   "id": "7b3a0e9a",
   "metadata": {},
   "outputs": [
    {
     "data": {
      "text/plain": [
       "'The capital of France is **Paris**.'"
      ]
     },
     "execution_count": 7,
     "metadata": {},
     "output_type": "execute_result"
    }
   ],
   "source": [
    "res.messages[-1].content"
   ]
  },
  {
   "cell_type": "code",
   "execution_count": null,
   "id": "a00376ef",
   "metadata": {},
   "outputs": [],
   "source": []
  }
 ],
 "metadata": {
  "kernelspec": {
   "display_name": "aiagent_env",
   "language": "python",
   "name": "python3"
  },
  "language_info": {
   "codemirror_mode": {
    "name": "ipython",
    "version": 3
   },
   "file_extension": ".py",
   "mimetype": "text/x-python",
   "name": "python",
   "nbconvert_exporter": "python",
   "pygments_lexer": "ipython3",
   "version": "3.12.5"
  }
 },
 "nbformat": 4,
 "nbformat_minor": 5
}
