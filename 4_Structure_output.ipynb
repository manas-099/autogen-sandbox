{
 "cells": [
  {
   "cell_type": "code",
   "execution_count": 1,
   "id": "54e155e0",
   "metadata": {},
   "outputs": [],
   "source": [
    "from autogen_ext.models.openai import OpenAIChatCompletionClient\n",
    "from autogen_agentchat.agents import AssistantAgent\n",
    "from dotenv import load_dotenv\n",
    "from autogen_core.models import UserMessage\n",
    "from autogen_agentchat.ui import Console"
   ]
  },
  {
   "cell_type": "code",
   "execution_count": 32,
   "id": "bf94d404",
   "metadata": {},
   "outputs": [],
   "source": [
    "# 1. Define schema\n",
    "from pydantic import BaseModel\n",
    "class WeatherInfo(BaseModel):\n",
    "    temperature: float\n",
    "    condition: str"
   ]
  },
  {
   "cell_type": "code",
   "execution_count": 33,
   "id": "681c9d4c",
   "metadata": {},
   "outputs": [],
   "source": [
    "\n",
    "load_dotenv()\n",
    "import os\n",
    "GEMINI_API_KEY=os.getenv('GEMINI_API_KEY')\n",
    "model_client = OpenAIChatCompletionClient(\n",
    "    model=\"gemini-2.5-flash\",\n",
    "    api_key=GEMINI_API_KEY,\n",
    "    response_format=WeatherInfo\n",
    ")"
   ]
  },
  {
   "cell_type": "code",
   "execution_count": 34,
   "id": "ecb1f516",
   "metadata": {},
   "outputs": [],
   "source": [
    "agent=AssistantAgent(\n",
    "    name=\"jarvis\",\n",
    "    model_client=model_client,\n",
    "    system_message=\"you are a helpfull ai assistant. if you dont have real time data then you can use proxy\",\n",
    "   \n",
    "\n",
    ")"
   ]
  },
  {
   "cell_type": "code",
   "execution_count": 35,
   "id": "042e2254",
   "metadata": {},
   "outputs": [
    {
     "name": "stdout",
     "output_type": "stream",
     "text": [
      "---------- jarvis ----------\n",
      "{\"temperature\":28.5,\"condition\":\"Partly cloudy\"}\n"
     ]
    },
    {
     "data": {
      "text/plain": [
       "Response(chat_message=TextMessage(id='2b8b611a-851d-475a-82f6-a9efa1d72fef', source='jarvis', models_usage=RequestUsage(prompt_tokens=36, completion_tokens=14), metadata={}, created_at=datetime.datetime(2025, 9, 2, 4, 45, 4, 942891, tzinfo=datetime.timezone.utc), content='{\"temperature\":28.5,\"condition\":\"Partly cloudy\"}', type='TextMessage'), inner_messages=[])"
      ]
     },
     "execution_count": 35,
     "metadata": {},
     "output_type": "execute_result"
    }
   ],
   "source": [
    "import asyncio\n",
    "from autogen_core import CancellationToken\n",
    "from autogen_agentchat.messages import TextMessage\n",
    "\n",
    "    \n",
    "    \n",
    "\n",
    "await Console(\n",
    "        agent.on_messages_stream(\n",
    "            [TextMessage(content=\"What is the weather like in bhubanewar  right now?\", source=\"user\")], CancellationToken()\n",
    "        )\n",
    "    )\n",
    "\n",
    "\n"
   ]
  },
  {
   "cell_type": "code",
   "execution_count": null,
   "id": "585ca0f7",
   "metadata": {},
   "outputs": [],
   "source": []
  }
 ],
 "metadata": {
  "kernelspec": {
   "display_name": "aiagent_env",
   "language": "python",
   "name": "python3"
  },
  "language_info": {
   "codemirror_mode": {
    "name": "ipython",
    "version": 3
   },
   "file_extension": ".py",
   "mimetype": "text/x-python",
   "name": "python",
   "nbconvert_exporter": "python",
   "pygments_lexer": "ipython3",
   "version": "3.12.5"
  }
 },
 "nbformat": 4,
 "nbformat_minor": 5
}
