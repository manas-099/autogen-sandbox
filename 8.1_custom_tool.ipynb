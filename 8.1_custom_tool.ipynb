{
 "cells": [
  {
   "cell_type": "code",
   "execution_count": 1,
   "id": "1110473f",
   "metadata": {},
   "outputs": [
    {
     "name": "stdout",
     "output_type": "stream",
     "text": [
      "Gemini key loaded: True\n"
     ]
    }
   ],
   "source": [
    "\n",
    "from autogen_agentchat.agents import AssistantAgent\n",
    "from autogen_agentchat.teams import SelectorGroupChat\n",
    "from autogen_agentchat.conditions import MaxMessageTermination\n",
    "from autogen_ext.models.openai import OpenAIChatCompletionClient\n",
    "from autogen_core.tools import FunctionTool\n",
    "from dotenv import load_dotenv\n",
    "from autogen_agentchat.ui import Console\n",
    "from autogen_core import CancellationToken\n",
    "import os\n",
    "import asyncio\n",
    "load_dotenv()\n",
    "gemini_api_key=os.getenv('GEMINI_API_KEY')\n",
    "print(\"Gemini key loaded:\", gemini_api_key is not None)"
   ]
  },
  {
   "cell_type": "code",
   "execution_count": 2,
   "id": "99e4c0ba",
   "metadata": {},
   "outputs": [],
   "source": [
    "async def add_numbers(a: int, b: int) -> int:\n",
    "    \"\"\"Adds two numbers and returns the result.\"\"\"\n",
    "    return a + b\n",
    "addition_tool=FunctionTool(add_numbers,description=\"useful for addition operations.\")"
   ]
  },
  {
   "cell_type": "code",
   "execution_count": 3,
   "id": "54ffab8a",
   "metadata": {},
   "outputs": [
    {
     "data": {
      "text/plain": [
       "{'name': 'add_numbers',\n",
       " 'description': 'useful for addition operations.',\n",
       " 'parameters': {'type': 'object',\n",
       "  'properties': {'a': {'description': 'a', 'title': 'A', 'type': 'integer'},\n",
       "   'b': {'description': 'b', 'title': 'B', 'type': 'integer'}},\n",
       "  'required': ['a', 'b'],\n",
       "  'additionalProperties': False},\n",
       " 'strict': False}"
      ]
     },
     "execution_count": 3,
     "metadata": {},
     "output_type": "execute_result"
    }
   ],
   "source": [
    "addition_tool.schema"
   ]
  },
  {
   "cell_type": "code",
   "execution_count": 4,
   "id": "0d0b832c",
   "metadata": {},
   "outputs": [],
   "source": [
    "model_client=OpenAIChatCompletionClient(\n",
    "            model=\"gemini-2.5-flash\",\n",
    "            api_key=gemini_api_key,\n",
    "        )"
   ]
  },
  {
   "cell_type": "code",
   "execution_count": 13,
   "id": "978aa12d",
   "metadata": {},
   "outputs": [],
   "source": [
    "from autogen_core.models import AssistantMessage, FunctionExecutionResult, FunctionExecutionResultMessage, UserMessage\n",
    "user=UserMessage(content=\"add 100 with 90\",source=\"user\")\n",
    "cancellation_token = CancellationToken()\n"
   ]
  },
  {
   "cell_type": "code",
   "execution_count": 8,
   "id": "7992990c",
   "metadata": {},
   "outputs": [],
   "source": [
    "result=await model_client.create(messages=[user],tools=[addition_tool],cancellation_token=cancellation_token)"
   ]
  },
  {
   "cell_type": "code",
   "execution_count": 12,
   "id": "9ad17392",
   "metadata": {},
   "outputs": [
    {
     "data": {
      "text/plain": [
       "[FunctionCall(id='', arguments='{\"b\":90,\"a\":100}', name='add_numbers')]"
      ]
     },
     "execution_count": 12,
     "metadata": {},
     "output_type": "execute_result"
    }
   ],
   "source": [
    "result.content"
   ]
  },
  {
   "cell_type": "code",
   "execution_count": 18,
   "id": "fc29ab88",
   "metadata": {},
   "outputs": [],
   "source": [
    "import json"
   ]
  },
  {
   "cell_type": "code",
   "execution_count": 19,
   "id": "dfef7499",
   "metadata": {},
   "outputs": [
    {
     "data": {
      "text/plain": [
       "'190'"
      ]
     },
     "execution_count": 19,
     "metadata": {},
     "output_type": "execute_result"
    }
   ],
   "source": [
    "assert isinstance(result.content, list)\n",
    "arguments = json.loads(result.content[0].arguments)  \n",
    "tool_result = await addition_tool.run_json(arguments, cancellation_token)\n",
    "tool_result_str = addition_tool.return_value_as_string(tool_result)\n",
    "tool_result_str\n"
   ]
  },
  {
   "cell_type": "code",
   "execution_count": 21,
   "id": "c7ea22da",
   "metadata": {},
   "outputs": [
    {
     "name": "stdout",
     "output_type": "stream",
     "text": [
      "100 added to 90 is 190.\n"
     ]
    }
   ],
   "source": [
    "\n",
    "exec_result = FunctionExecutionResult(\n",
    "    call_id=result.content[0].id, \n",
    "    content=tool_result_str,\n",
    "    is_error=False,\n",
    "    name=addition_tool.name,\n",
    ")\n",
    "\n",
    "\n",
    "messages = [\n",
    "    user,\n",
    "    AssistantMessage(content=result.content, source=\"assistant\"),   \n",
    "    FunctionExecutionResultMessage(content=[exec_result]),  \n",
    "]\n",
    "create_result = await model_client.create(messages=messages, cancellation_token=cancellation_token)  # \n",
    "print(create_result.content)\n",
    "await model_client.close()\n"
   ]
  },
  {
   "cell_type": "code",
   "execution_count": 32,
   "id": "cdef3d73",
   "metadata": {},
   "outputs": [],
   "source": [
    "agent=AssistantAgent(\n",
    "    model_client=OpenAIChatCompletionClient(\n",
    "            model=\"gemini-2.5-flash\",\n",
    "            api_key=gemini_api_key,\n",
    "        ),\n",
    "    name=\"jarvis\",\n",
    "    tools=[add_numbers],\n",
    "    system_message=\"you are a helpfull assistant, goal is to give answer to the user use the tool when needed.\"\n",
    "\n",
    ")"
   ]
  },
  {
   "cell_type": "code",
   "execution_count": 33,
   "id": "b1d5b511",
   "metadata": {},
   "outputs": [
    {
     "name": "stdout",
     "output_type": "stream",
     "text": [
      "---------- TextMessage (user) ----------\n",
      "add 100 with 90.\n",
      "---------- ToolCallRequestEvent (jarvis) ----------\n",
      "[FunctionCall(id='', arguments='{\"b\":90,\"a\":100}', name='add_numbers')]\n",
      "---------- ToolCallExecutionEvent (jarvis) ----------\n",
      "[FunctionExecutionResult(content='190', name='add_numbers', call_id='', is_error=False)]\n",
      "---------- ToolCallSummaryMessage (jarvis) ----------\n",
      "190\n"
     ]
    },
    {
     "data": {
      "text/plain": [
       "TaskResult(messages=[TextMessage(id='365a41b4-ab10-4664-8339-3b74cd0a177e', source='user', models_usage=None, metadata={}, created_at=datetime.datetime(2025, 9, 7, 12, 23, 7, 727025, tzinfo=datetime.timezone.utc), content='add 100 with 90.', type='TextMessage'), ToolCallRequestEvent(id='8f38aba9-5f61-4d20-ba19-3644c3aa20cd', source='jarvis', models_usage=RequestUsage(prompt_tokens=84, completion_tokens=23), metadata={}, created_at=datetime.datetime(2025, 9, 7, 12, 23, 9, 58442, tzinfo=datetime.timezone.utc), content=[FunctionCall(id='', arguments='{\"b\":90,\"a\":100}', name='add_numbers')], type='ToolCallRequestEvent'), ToolCallExecutionEvent(id='b95dda06-c99d-4c8d-8580-d4522748542c', source='jarvis', models_usage=None, metadata={}, created_at=datetime.datetime(2025, 9, 7, 12, 23, 9, 68868, tzinfo=datetime.timezone.utc), content=[FunctionExecutionResult(content='190', name='add_numbers', call_id='', is_error=False)], type='ToolCallExecutionEvent'), ToolCallSummaryMessage(id='a932d0ff-edcd-4fb8-936e-2a8f8b937dab', source='jarvis', models_usage=None, metadata={}, created_at=datetime.datetime(2025, 9, 7, 12, 23, 9, 75087, tzinfo=datetime.timezone.utc), content='190', type='ToolCallSummaryMessage', tool_calls=[FunctionCall(id='', arguments='{\"b\":90,\"a\":100}', name='add_numbers')], results=[FunctionExecutionResult(content='190', name='add_numbers', call_id='', is_error=False)])], stop_reason=None)"
      ]
     },
     "execution_count": 33,
     "metadata": {},
     "output_type": "execute_result"
    }
   ],
   "source": [
    "await Console(agent.run_stream(task=\"add 100 with 90.\"))"
   ]
  },
  {
   "cell_type": "code",
   "execution_count": null,
   "id": "484f09f7",
   "metadata": {},
   "outputs": [],
   "source": []
  }
 ],
 "metadata": {
  "kernelspec": {
   "display_name": "aiagent_env",
   "language": "python",
   "name": "python3"
  },
  "language_info": {
   "codemirror_mode": {
    "name": "ipython",
    "version": 3
   },
   "file_extension": ".py",
   "mimetype": "text/x-python",
   "name": "python",
   "nbconvert_exporter": "python",
   "pygments_lexer": "ipython3",
   "version": "3.12.5"
  }
 },
 "nbformat": 4,
 "nbformat_minor": 5
}
